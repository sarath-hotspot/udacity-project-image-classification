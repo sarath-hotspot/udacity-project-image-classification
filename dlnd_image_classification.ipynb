{
 "cells": [
  {
   "cell_type": "markdown",
   "metadata": {
    "collapsed": true,
    "deletable": true,
    "editable": true
   },
   "source": [
    "# Image Classification\n",
    "In this project, you'll classify images from the [CIFAR-10 dataset](https://www.cs.toronto.edu/~kriz/cifar.html).  The dataset consists of airplanes, dogs, cats, and other objects. You'll preprocess the images, then train a convolutional neural network on all the samples. The images need to be normalized and the labels need to be one-hot encoded.  You'll get to apply what you learned and build a convolutional, max pooling, dropout, and fully connected layers.  At the end, you'll get to see your neural network's predictions on the sample images.\n",
    "## Get the Data\n",
    "Run the following cell to download the [CIFAR-10 dataset for python](https://www.cs.toronto.edu/~kriz/cifar-10-python.tar.gz)."
   ]
  },
  {
   "cell_type": "code",
   "execution_count": 1,
   "metadata": {
    "collapsed": false,
    "deletable": true,
    "editable": true
   },
   "outputs": [
    {
     "name": "stdout",
     "output_type": "stream",
     "text": [
      "All files found!\n"
     ]
    }
   ],
   "source": [
    "\"\"\"\n",
    "DON'T MODIFY ANYTHING IN THIS CELL THAT IS BELOW THIS LINE\n",
    "\"\"\"\n",
    "from urllib.request import urlretrieve\n",
    "from os.path import isfile, isdir\n",
    "from tqdm import tqdm\n",
    "import problem_unittests as tests\n",
    "import tarfile\n",
    "\n",
    "cifar10_dataset_folder_path = 'cifar-10-batches-py'\n",
    "\n",
    "class DLProgress(tqdm):\n",
    "    last_block = 0\n",
    "\n",
    "    def hook(self, block_num=1, block_size=1, total_size=None):\n",
    "        self.total = total_size\n",
    "        self.update((block_num - self.last_block) * block_size)\n",
    "        self.last_block = block_num\n",
    "\n",
    "if not isfile('cifar-10-python.tar.gz'):\n",
    "    with DLProgress(unit='B', unit_scale=True, miniters=1, desc='CIFAR-10 Dataset') as pbar:\n",
    "        urlretrieve(\n",
    "            'https://www.cs.toronto.edu/~kriz/cifar-10-python.tar.gz',\n",
    "            'cifar-10-python.tar.gz',\n",
    "            pbar.hook)\n",
    "\n",
    "if not isdir(cifar10_dataset_folder_path):\n",
    "    with tarfile.open('cifar-10-python.tar.gz') as tar:\n",
    "        tar.extractall()\n",
    "        tar.close()\n",
    "\n",
    "\n",
    "tests.test_folder_path(cifar10_dataset_folder_path)"
   ]
  },
  {
   "cell_type": "markdown",
   "metadata": {
    "deletable": true,
    "editable": true
   },
   "source": [
    "## Explore the Data\n",
    "The dataset is broken into batches to prevent your machine from running out of memory.  The CIFAR-10 dataset consists of 5 batches, named `data_batch_1`, `data_batch_2`, etc.. Each batch contains the labels and images that are one of the following:\n",
    "* airplane\n",
    "* automobile\n",
    "* bird\n",
    "* cat\n",
    "* deer\n",
    "* dog\n",
    "* frog\n",
    "* horse\n",
    "* ship\n",
    "* truck\n",
    "\n",
    "Understanding a dataset is part of making predictions on the data.  Play around with the code cell below by changing the `batch_id` and `sample_id`. The `batch_id` is the id for a batch (1-5). The `sample_id` is the id for a image and label pair in the batch.\n",
    "\n",
    "Ask yourself \"What are all possible labels?\", \"What is the range of values for the image data?\", \"Are the labels in order or random?\".  Answers to questions like these will help you preprocess the data and end up with better predictions."
   ]
  },
  {
   "cell_type": "code",
   "execution_count": 2,
   "metadata": {
    "collapsed": false,
    "deletable": true,
    "editable": true
   },
   "outputs": [
    {
     "name": "stdout",
     "output_type": "stream",
     "text": [
      "\n",
      "Stats of batch 1:\n",
      "Samples: 10000\n",
      "Label Counts: {0: 1005, 1: 974, 2: 1032, 3: 1016, 4: 999, 5: 937, 6: 1030, 7: 1001, 8: 1025, 9: 981}\n",
      "First 20 Labels: [6, 9, 9, 4, 1, 1, 2, 7, 8, 3, 4, 7, 7, 2, 9, 9, 9, 3, 2, 6]\n",
      "\n",
      "Example of Image 50:\n",
      "Image - Min Value: 8 Max Value: 243\n",
      "Image - Shape: (32, 32, 3)\n",
      "Label - Label Id: 9 Name: truck\n"
     ]
    },
    {
     "data": {
      "image/png": "[encoded data removed]",
      "text/plain": [
       "<matplotlib.figure.Figure at 0x7f29e94b7320>"
      ]
     },
     "metadata": {
      "image/png": {
       "height": 250,
       "width": 253
      }
     },
     "output_type": "display_data"
    }
   ],
   "source": [
    "%matplotlib inline\n",
    "%config InlineBackend.figure_format = 'retina'\n",
    "\n",
    "import helper\n",
    "import numpy as np\n",
    "\n",
    "# Explore the dataset\n",
    "batch_id = 1\n",
    "sample_id = 50\n",
    "helper.display_stats(cifar10_dataset_folder_path, batch_id, sample_id)"
   ]
  },
  {
   "cell_type": "markdown",
   "metadata": {
    "deletable": true,
    "editable": true
   },
   "source": [
    "## Implement Preprocess Functions\n",
    "### Normalize\n",
    "In the cell below, implement the `normalize` function to take in image data, `x`, and return it as a normalized Numpy array. The values should be in the range of 0 to 1, inclusive.  The return object should be the same shape as `x`."
   ]
  },
  {
   "cell_type": "code",
   "execution_count": 3,
   "metadata": {
    "collapsed": false,
    "deletable": true,
    "editable": true
   },
   "outputs": [
    {
     "name": "stdout",
     "output_type": "stream",
     "text": [
      "Tests Passed\n"
     ]
    }
   ],
   "source": [
    "def normalize(x):\n",
    "    \"\"\"\n",
    "    Normalize a list of sample image data in the range of 0 to 1\n",
    "    : x: List of image data.  The image shape is (32, 32, 3)\n",
    "    : return: Numpy array of normalize data\n",
    "    \"\"\"\n",
    "    return x / 255\n",
    "\n",
    "\n",
    "\"\"\"\n",
    "DON'T MODIFY ANYTHING IN THIS CELL THAT IS BELOW THIS LINE\n",
    "\"\"\"\n",
    "tests.test_normalize(normalize)"
   ]
  },
  {
   "cell_type": "markdown",
   "metadata": {
    "deletable": true,
    "editable": true
   },
   "source": [
    "### One-hot encode\n",
    "Just like the previous code cell, you'll be implementing a function for preprocessing.  This time, you'll implement the `one_hot_encode` function. The input, `x`, are a list of labels.  Implement the function to return the list of labels as One-Hot encoded Numpy array.  The possible values for labels are 0 to 9. The one-hot encoding function should return the same encoding for each value between each call to `one_hot_encode`.  Make sure to save the map of encodings outside the function.\n",
    "\n",
    "Hint: Don't reinvent the wheel."
   ]
  },
  {
   "cell_type": "code",
   "execution_count": 6,
   "metadata": {
    "collapsed": false,
    "deletable": true,
    "editable": true
   },
   "outputs": [
    {
     "name": "stdout",
     "output_type": "stream",
     "text": [
      "range(0, 10)\n"
     ]
    }
   ],
   "source": []
  },
  {
   "cell_type": "code",
   "execution_count": 4,
   "metadata": {
    "collapsed": false,
    "deletable": true,
    "editable": true
   },
   "outputs": [
    {
     "name": "stdout",
     "output_type": "stream",
     "text": [
      "Tests Passed\n"
     ]
    }
   ],
   "source": [
    "def one_hot_encode(x):\n",
    "    \"\"\"\n",
    "    One hot encode a list of sample labels. Return a one-hot encoded vector for each label.\n",
    "    : x: List of sample Labels\n",
    "    : return: Numpy array of one-hot encoded labels\n",
    "    \"\"\"\n",
    "    return np.eye(10)[x]\n",
    "    # Our own implementation of one hot logic.\n",
    "    # return np.array([one_hot_encode_helper(label) for label in x])\n",
    "    \n",
    "one_hot_map = {}\n",
    "def one_hot_encode_helper(x):\n",
    "    if x in one_hot_map:\n",
    "        return one_hot_map[x]\n",
    "    result = np.zeros(10)\n",
    "    result[x] = 0\n",
    "    one_hot_map[x] = result\n",
    "    return result\n",
    "\n",
    "    \n",
    "\n",
    "\"\"\"\n",
    "DON'T MODIFY ANYTHING IN THIS CELL THAT IS BELOW THIS LINE\n",
    "\"\"\"\n",
    "tests.test_one_hot_encode(one_hot_encode)"
   ]
  },
  {
   "cell_type": "markdown",
   "metadata": {
    "deletable": true,
    "editable": true
   },
   "source": [
    "### Randomize Data\n",
    "As you saw from exploring the data above, the order of the samples are randomized.  It doesn't hurt to randomize it again, but you don't need to for this dataset."
   ]
  },
  {
   "cell_type": "markdown",
   "metadata": {
    "deletable": true,
    "editable": true
   },
   "source": [
    "## Preprocess all the data and save it\n",
    "Running the code cell below will preprocess all the CIFAR-10 data and save it to file. The code below also uses 10% of the training data for validation."
   ]
  },
  {
   "cell_type": "code",
   "execution_count": 5,
   "metadata": {
    "collapsed": false,
    "deletable": true,
    "editable": true
   },
   "outputs": [],
   "source": [
    "\"\"\"\n",
    "DON'T MODIFY ANYTHING IN THIS CELL\n",
    "\"\"\"\n",
    "# Preprocess Training, Validation, and Testing Data\n",
    "helper.preprocess_and_save_data(cifar10_dataset_folder_path, normalize, one_hot_encode)"
   ]
  },
  {
   "cell_type": "markdown",
   "metadata": {
    "deletable": true,
    "editable": true
   },
   "source": [
    "# Check Point\n",
    "This is your first checkpoint.  If you ever decide to come back to this notebook or have to restart the notebook, you can start from here.  The preprocessed data has been saved to disk."
   ]
  },
  {
   "cell_type": "code",
   "execution_count": 6,
   "metadata": {
    "collapsed": false,
    "deletable": true,
    "editable": true
   },
   "outputs": [],
   "source": [
    "\"\"\"\n",
    "DON'T MODIFY ANYTHING IN THIS CELL\n",
    "\"\"\"\n",
    "import pickle\n",
    "import problem_unittests as tests\n",
    "import helper\n",
    "\n",
    "# Load the Preprocessed Validation data\n",
    "valid_features, valid_labels = pickle.load(open('preprocess_validation.p', mode='rb'))"
   ]
  },
  {
   "cell_type": "markdown",
   "metadata": {
    "deletable": true,
    "editable": true
   },
   "source": [
    "## Build the network\n",
    "For the neural network, you'll build each layer into a function.  Most of the code you've seen has been outside of functions. To test your code more thoroughly, we require that you put each layer in a function.  This allows us to give you better feedback and test for simple mistakes using our unittests before you submit your project.\n",
    "\n",
    "If you're finding it hard to dedicate enough time for this course a week, we've provided a small shortcut to this part of the project. In the next couple of problems, you'll have the option to use [TensorFlow Layers](https://www.tensorflow.org/api_docs/python/tf/layers) or [TensorFlow Layers (contrib)](https://www.tensorflow.org/api_guides/python/contrib.layers) to build each layer, except \"Convolutional & Max Pooling\" layer.  TF Layers is similar to Keras's and TFLearn's abstraction to layers, so it's easy to pickup.\n",
    "\n",
    "If you would like to get the most of this course, try to solve all the problems without TF Layers.  Let's begin!\n",
    "### Input\n",
    "The neural network needs to read the image data, one-hot encoded labels, and dropout keep probability. Implement the following functions\n",
    "* Implement `neural_net_image_input`\n",
    " * Return a [TF Placeholder](https://www.tensorflow.org/api_docs/python/tf/placeholder)\n",
    " * Set the shape using `image_shape` with batch size set to `None`.\n",
    " * Name the TensorFlow placeholder \"x\" using the TensorFlow `name` parameter in the [TF Placeholder](https://www.tensorflow.org/api_docs/python/tf/placeholder).\n",
    "* Implement `neural_net_label_input`\n",
    " * Return a [TF Placeholder](https://www.tensorflow.org/api_docs/python/tf/placeholder)\n",
    " * Set the shape using `n_classes` with batch size set to `None`.\n",
    " * Name the TensorFlow placeholder \"y\" using the TensorFlow `name` parameter in the [TF Placeholder](https://www.tensorflow.org/api_docs/python/tf/placeholder).\n",
    "* Implement `neural_net_keep_prob_input`\n",
    " * Return a [TF Placeholder](https://www.tensorflow.org/api_docs/python/tf/placeholder) for dropout keep probability.\n",
    " * Name the TensorFlow placeholder \"keep_prob\" using the TensorFlow `name` parameter in the [TF Placeholder](https://www.tensorflow.org/api_docs/python/tf/placeholder).\n",
    "\n",
    "These names will be used at the end of the project to load your saved model.\n",
    "\n",
    "Note: `None` for shapes in TensorFlow allow for a dynamic size."
   ]
  },
  {
   "cell_type": "code",
   "execution_count": 7,
   "metadata": {
    "collapsed": false,
    "deletable": true,
    "editable": true
   },
   "outputs": [
    {
     "name": "stdout",
     "output_type": "stream",
     "text": [
      "Image Input Tests Passed.\n",
      "Label Input Tests Passed.\n",
      "Keep Prob Tests Passed.\n"
     ]
    }
   ],
   "source": [
    "import tensorflow as tf\n",
    "\n",
    "def neural_net_image_input(image_shape):\n",
    "    \"\"\"\n",
    "    Return a Tensor for a bach of image input\n",
    "    : image_shape: Shape of the images\n",
    "    : return: Tensor for image input.\n",
    "    \"\"\"\n",
    "    # TODO: Implement Function\n",
    "    return tf.placeholder(tf.float32, [None, image_shape[0],image_shape[1],image_shape[2]], name='x')\n",
    "\n",
    "\n",
    "def neural_net_label_input(n_classes):\n",
    "    \"\"\"\n",
    "    Return a Tensor for a batch of label input\n",
    "    : n_classes: Number of classes\n",
    "    : return: Tensor for label input.\n",
    "    \"\"\"\n",
    "    # TODO: Implement Function\n",
    "    return tf.placeholder(tf.float32, [None, n_classes], name='y')\n",
    "\n",
    "\n",
    "def neural_net_keep_prob_input():\n",
    "    \"\"\"\n",
    "    Return a Tensor for keep probability\n",
    "    : return: Tensor for keep probability.\n",
    "    \"\"\"\n",
    "    # TODO: Implement Function\n",
    "    return tf.placeholder(tf.float32, name='keep_prob')\n",
    "\n",
    "\n",
    "\"\"\"\n",
    "DON'T MODIFY ANYTHING IN THIS CELL THAT IS BELOW THIS LINE\n",
    "\"\"\"\n",
    "tf.reset_default_graph()\n",
    "tests.test_nn_image_inputs(neural_net_image_input)\n",
    "tests.test_nn_label_inputs(neural_net_label_input)\n",
    "tests.test_nn_keep_prob_inputs(neural_net_keep_prob_input)"
   ]
  },
  {
   "cell_type": "markdown",
   "metadata": {
    "deletable": true,
    "editable": true
   },
   "source": [
    "### Convolution and Max Pooling Layer\n",
    "Convolution layers have a lot of success with images. For this code cell, you should implement the function `conv2d_maxpool` to apply convolution then max pooling:\n",
    "* Create the weight and bias using `conv_ksize`, `conv_num_outputs` and the shape of `x_tensor`.\n",
    "* Apply a convolution to `x_tensor` using weight and `conv_strides`.\n",
    " * We recommend you use same padding, but you're welcome to use any padding.\n",
    "* Add bias\n",
    "* Add a nonlinear activation to the convolution.\n",
    "* Apply Max Pooling using `pool_ksize` and `pool_strides`.\n",
    " * We recommend you use same padding, but you're welcome to use any padding.\n",
    "\n",
    "Note: You **can't** use [TensorFlow Layers](https://www.tensorflow.org/api_docs/python/tf/layers) or [TensorFlow Layers (contrib)](https://www.tensorflow.org/api_guides/python/contrib.layers) for this layer.  You're free to use any TensorFlow package for all the other layers."
   ]
  },
  {
   "cell_type": "code",
   "execution_count": 8,
   "metadata": {
    "collapsed": false,
    "deletable": true,
    "editable": true
   },
   "outputs": [
    {
     "name": "stdout",
     "output_type": "stream",
     "text": [
      "Tests Passed\n"
     ]
    }
   ],
   "source": [
    "def conv2d_maxpool(x_tensor, conv_num_outputs, conv_ksize, conv_strides, pool_ksize, pool_strides):\n",
    "    \"\"\"\n",
    "    Apply convolution then max pooling to x_tensor\n",
    "    :param x_tensor: TensorFlow Tensor\n",
    "    :param conv_num_outputs: Number of outputs for the convolutional layer\n",
    "    :param conv_strides: Stride 2-D Tuple for convolution\n",
    "    :param pool_ksize: kernal size 2-D Tuple for pool\n",
    "    :param pool_strides: Stride 2-D Tuple for pool\n",
    "    : return: A tensor that represents convolution and max pooling of x_tensor\n",
    "    \"\"\"\n",
    "    # TODO: Implement Function\n",
    "    weight = tf.Variable(tf.random_normal([conv_ksize[0],\n",
    "                                           conv_ksize[1],\n",
    "                                           x_tensor.get_shape().as_list()[-1], \n",
    "                                           conv_num_outputs],\n",
    "                                         stddev=0.1))\n",
    "    bias = tf.Variable(tf.zeros(conv_num_outputs, dtype=tf.float32))\n",
    "    conv_layer = tf.nn.conv2d(x_tensor, weight, strides=[1, conv_strides[0], conv_strides[1], 1], padding='SAME')\n",
    "    conv_layer = tf.nn.bias_add(conv_layer, bias)\n",
    "    conv_layer = tf.nn.relu(conv_layer)\n",
    "    conv_layer = tf.nn.max_pool(conv_layer, \n",
    "                                ksize=[1, pool_ksize[0], pool_ksize[1], 1], \n",
    "                                strides=[1, pool_strides[0], pool_strides[1], 1],\n",
    "                                padding='SAME')\n",
    "    return conv_layer\n",
    "\n",
    "\n",
    "\"\"\"\n",
    "DON'T MODIFY ANYTHING IN THIS CELL THAT IS BELOW THIS LINE\n",
    "\"\"\"\n",
    "tests.test_con_pool(conv2d_maxpool)"
   ]
  },
  {
   "cell_type": "markdown",
   "metadata": {
    "deletable": true,
    "editable": true
   },
   "source": [
    "### Flatten Layer\n",
    "Implement the `flatten` function to change the dimension of `x_tensor` from a 4-D tensor to a 2-D tensor.  The output should be the shape (*Batch Size*, *Flattened Image Size*). You can use [TensorFlow Layers](https://www.tensorflow.org/api_docs/python/tf/layers) or [TensorFlow Layers (contrib)](https://www.tensorflow.org/api_guides/python/contrib.layers) for this layer."
   ]
  },
  {
   "cell_type": "code",
   "execution_count": 9,
   "metadata": {
    "collapsed": false,
    "deletable": true,
    "editable": true
   },
   "outputs": [
    {
     "name": "stdout",
     "output_type": "stream",
     "text": [
      "Tests Passed\n"
     ]
    }
   ],
   "source": [
    "def flatten(x_tensor):\n",
    "    \"\"\"\n",
    "    Flatten x_tensor to (Batch Size, Flattened Image Size)\n",
    "    : x_tensor: A tensor of size (Batch Size, ...), where ... are the image dimensions.\n",
    "    : return: A tensor of size (Batch Size, Flattened Image Size).\n",
    "    \"\"\"\n",
    "    # TODO: Implement Function\n",
    "    # return tf.contrib.layers.flatten(x_tensor)\n",
    "    flattened_size = x_tensor.shape[1] * x_tensor.shape[2] * x_tensor.shape[3]\n",
    "    return tf.reshape(x_tensor, [-1, flattened_size.value])\n",
    "\n",
    "\n",
    "\"\"\"\n",
    "DON'T MODIFY ANYTHING IN THIS CELL THAT IS BELOW THIS LINE\n",
    "\"\"\"\n",
    "tests.test_flatten(flatten)"
   ]
  },
  {
   "cell_type": "markdown",
   "metadata": {
    "deletable": true,
    "editable": true
   },
   "source": [
    "### Fully-Connected Layer\n",
    "Implement the `fully_conn` function to apply a fully connected layer to `x_tensor` with the shape (*Batch Size*, *num_outputs*). You can use [TensorFlow Layers](https://www.tensorflow.org/api_docs/python/tf/layers) or [TensorFlow Layers (contrib)](https://www.tensorflow.org/api_guides/python/contrib.layers) for this layer."
   ]
  },
  {
   "cell_type": "code",
   "execution_count": 10,
   "metadata": {
    "collapsed": false,
    "deletable": true,
    "editable": true
   },
   "outputs": [
    {
     "name": "stdout",
     "output_type": "stream",
     "text": [
      "Tests Passed\n"
     ]
    }
   ],
   "source": [
    "def fully_conn(x_tensor, num_outputs):\n",
    "    \"\"\"\n",
    "    Apply a fully connected layer to x_tensor using weight and bias\n",
    "    : x_tensor: A 2-D tensor where the first dimension is batch size.\n",
    "    : num_outputs: The number of output that the new tensor should be.\n",
    "    : return: A 2-D tensor where the second dimension is num_outputs.\n",
    "    \"\"\"\n",
    "    # TODO: Implement Function\n",
    "    # return tf.contrib.layers.fully_connected(x_tensor, num_outputs=num_outputs)\n",
    "    num_features = x_tensor.shape[1].value\n",
    "    weights = tf.Variable(tf.random_normal([num_features, num_outputs], stddev=0.1))\n",
    "    biases = tf.Variable(tf.zeros([num_outputs]))\n",
    "    fc = tf.add(tf.matmul(x_tensor, weights), biases)\n",
    "    fc = tf.nn.relu(fc)\n",
    "    return fc\n",
    "    \n",
    "    \n",
    "\n",
    "\n",
    "\"\"\"\n",
    "DON'T MODIFY ANYTHING IN THIS CELL THAT IS BELOW THIS LINE\n",
    "\"\"\"\n",
    "tests.test_fully_conn(fully_conn)"
   ]
  },
  {
   "cell_type": "markdown",
   "metadata": {
    "deletable": true,
    "editable": true
   },
   "source": [
    "### Output Layer\n",
    "Implement the `output` function to apply a fully connected layer to `x_tensor` with the shape (*Batch Size*, *num_outputs*). You can use [TensorFlow Layers](https://www.tensorflow.org/api_docs/python/tf/layers) or [TensorFlow Layers (contrib)](https://www.tensorflow.org/api_guides/python/contrib.layers) for this layer.\n",
    "\n",
    "Note: Activation, softmax, or cross entropy shouldn't be applied to this."
   ]
  },
  {
   "cell_type": "code",
   "execution_count": 17,
   "metadata": {
    "collapsed": false,
    "deletable": true,
    "editable": true
   },
   "outputs": [
    {
     "name": "stdout",
     "output_type": "stream",
     "text": [
      "Tests Passed\n"
     ]
    }
   ],
   "source": [
    "def output(x_tensor, num_outputs):\n",
    "    \"\"\"\n",
    "    Apply a output layer to x_tensor using weight and bias\n",
    "    : x_tensor: A 2-D tensor where the first dimension is batch size.\n",
    "    : num_outputs: The number of output that the new tensor should be.\n",
    "    : return: A 2-D tensor where the second dimension is num_outputs.\n",
    "    \"\"\"\n",
    "    # TODO: Implement Function\n",
    "    # return tf.contrib.layers.fully_connected(x_tensor, num_outputs=num_outputs)\n",
    "    num_features = x_tensor.shape[1].value\n",
    "    weights = tf.Variable(tf.random_normal([num_features, num_outputs], stddev=0.1))\n",
    "    biases = tf.Variable(tf.zeros([num_outputs]))\n",
    "    output_layer = tf.add(tf.matmul(x_tensor, weights), biases)\n",
    "    # output_layer = tf.nn.softmax(output_layer)\n",
    "    return output_layer\n",
    "\n",
    "\n",
    "\n",
    "\"\"\"\n",
    "DON'T MODIFY ANYTHING IN THIS CELL THAT IS BELOW THIS LINE\n",
    "\"\"\"\n",
    "tests.test_output(output)"
   ]
  },
  {
   "cell_type": "markdown",
   "metadata": {
    "deletable": true,
    "editable": true
   },
   "source": [
    "### Create Convolutional Model\n",
    "Implement the function `conv_net` to create a convolutional neural network model. The function takes in a batch of images, `x`, and outputs logits.  Use the layers you created above to create this model:\n",
    "\n",
    "* Apply 1, 2, or 3 Convolution and Max Pool layers\n",
    "* Apply a Flatten Layer\n",
    "* Apply 1, 2, or 3 Fully Connected Layers\n",
    "* Apply an Output Layer\n",
    "* Return the output\n",
    "* Apply [TensorFlow's Dropout](https://www.tensorflow.org/api_docs/python/tf/nn/dropout) to one or more layers in the model using `keep_prob`. "
   ]
  },
  {
   "cell_type": "code",
   "execution_count": 18,
   "metadata": {
    "collapsed": false,
    "deletable": true,
    "editable": true
   },
   "outputs": [
    {
     "name": "stdout",
     "output_type": "stream",
     "text": [
      "Neural Network Built!\n"
     ]
    }
   ],
   "source": [
    "def conv_net(x, keep_prob):\n",
    "    \"\"\"\n",
    "    Create a convolutional neural network model\n",
    "    : x: Placeholder tensor that holds image data.\n",
    "    : keep_prob: Placeholder tensor that hold dropout keep probability.\n",
    "    : return: Tensor that represents logits\n",
    "    \"\"\"\n",
    "    # TODO: Apply 1, 2, or 3 Convolution and Max Pool layers\n",
    "    #    Play around with different number of outputs, kernel size and stride\n",
    "    # Function Definition from Above:\n",
    "    #    conv2d_maxpool(x_tensor, conv_num_outputs, conv_ksize, conv_strides, pool_ksize, pool_strides)\n",
    "    x = conv2d_maxpool(x, 8, (4, 4), (1, 1), (2, 2), (2, 2))\n",
    "    x = conv2d_maxpool(x, 16, (4, 4), (1, 1), (2, 2), (2, 2))\n",
    "    x = conv2d_maxpool(x, 32, (4, 4), (1, 1), (2, 2), (2, 2))\n",
    "    \n",
    "    # TODO: Apply a Flatten Layer\n",
    "    # Function Definition from Above:\n",
    "    #   flatten(x_tensor)\n",
    "    x = flatten(x)\n",
    "\n",
    "    # TODO: Apply 1, 2, or 3 Fully Connected Layers\n",
    "    #    Play around with different number of outputs\n",
    "    # Function Definition from Above:\n",
    "    #   fully_conn(x_tensor, num_outputs)\n",
    "    x = fully_conn(x, 1024)\n",
    "    x = tf.nn.dropout(x, keep_prob=keep_prob)\n",
    "    x = fully_conn(x, 1024)\n",
    "    x = tf.nn.dropout(x, keep_prob=keep_prob)\n",
    "        \n",
    "    # TODO: Apply an Output Layer\n",
    "    #    Set this to the number of classes\n",
    "    # Function Definition from Above:\n",
    "    #   output(x_tensor, num_outputs)\n",
    "    x = output(x, 10)\n",
    "    \n",
    "    \n",
    "    # TODO: return output\n",
    "    return x\n",
    "\n",
    "\n",
    "\"\"\"\n",
    "DON'T MODIFY ANYTHING IN THIS CELL THAT IS BELOW THIS LINE\n",
    "\"\"\"\n",
    "\n",
    "##############################\n",
    "## Build the Neural Network ##\n",
    "##############################\n",
    "\n",
    "# Remove previous weights, bias, inputs, etc..\n",
    "tf.reset_default_graph()\n",
    "\n",
    "# Inputs\n",
    "x = neural_net_image_input((32, 32, 3))\n",
    "y = neural_net_label_input(10)\n",
    "keep_prob = neural_net_keep_prob_input()\n",
    "\n",
    "# Model\n",
    "logits = conv_net(x, keep_prob)\n",
    "\n",
    "# Name logits Tensor, so that is can be loaded from disk after training\n",
    "logits = tf.identity(logits, name='logits')\n",
    "\n",
    "# Loss and Optimizer\n",
    "cost = tf.reduce_mean(tf.nn.softmax_cross_entropy_with_logits(logits=logits, labels=y))\n",
    "optimizer = tf.train.AdamOptimizer().minimize(cost)\n",
    "\n",
    "# Accuracy\n",
    "correct_pred = tf.equal(tf.argmax(logits, 1), tf.argmax(y, 1))\n",
    "accuracy = tf.reduce_mean(tf.cast(correct_pred, tf.float32), name='accuracy')\n",
    "\n",
    "tests.test_conv_net(conv_net)"
   ]
  },
  {
   "cell_type": "markdown",
   "metadata": {
    "deletable": true,
    "editable": true
   },
   "source": [
    "## Train the Neural Network\n",
    "### Single Optimization\n",
    "Implement the function `train_neural_network` to do a single optimization.  The optimization should use `optimizer` to optimize in `session` with a `feed_dict` of the following:\n",
    "* `x` for image input\n",
    "* `y` for labels\n",
    "* `keep_prob` for keep probability for dropout\n",
    "\n",
    "This function will be called for each batch, so `tf.global_variables_initializer()` has already been called.\n",
    "\n",
    "Note: Nothing needs to be returned. This function is only optimizing the neural network."
   ]
  },
  {
   "cell_type": "code",
   "execution_count": 13,
   "metadata": {
    "collapsed": false,
    "deletable": true,
    "editable": true
   },
   "outputs": [
    {
     "name": "stdout",
     "output_type": "stream",
     "text": [
      "Tests Passed\n"
     ]
    }
   ],
   "source": [
    "def train_neural_network(session, optimizer, keep_probability, feature_batch, label_batch):\n",
    "    \"\"\"\n",
    "    Optimize the session on a batch of images and labels\n",
    "    : session: Current TensorFlow session\n",
    "    : optimizer: TensorFlow optimizer function\n",
    "    : keep_probability: keep probability\n",
    "    : feature_batch: Batch of Numpy image data\n",
    "    : label_batch: Batch of Numpy label data\n",
    "    \"\"\"\n",
    "    # TODO: Implement Function\n",
    "    session.run(optimizer, feed_dict={x:feature_batch, y:label_batch, keep_prob:keep_probability})\n",
    "\n",
    "\n",
    "\"\"\"\n",
    "DON'T MODIFY ANYTHING IN THIS CELL THAT IS BELOW THIS LINE\n",
    "\"\"\"\n",
    "tests.test_train_nn(train_neural_network)"
   ]
  },
  {
   "cell_type": "markdown",
   "metadata": {
    "deletable": true,
    "editable": true
   },
   "source": [
    "### Show Stats\n",
    "Implement the function `print_stats` to print loss and validation accuracy.  Use the global variables `valid_features` and `valid_labels` to calculate validation accuracy.  Use a keep probability of `1.0` to calculate the loss and validation accuracy."
   ]
  },
  {
   "cell_type": "code",
   "execution_count": 14,
   "metadata": {
    "collapsed": false,
    "deletable": true,
    "editable": true
   },
   "outputs": [],
   "source": [
    "def print_stats(session, feature_batch, label_batch, cost, accuracy):\n",
    "    \"\"\"\n",
    "    Print information about loss and validation accuracy\n",
    "    : session: Current TensorFlow session\n",
    "    : feature_batch: Batch of Numpy image data\n",
    "    : label_batch: Batch of Numpy label data\n",
    "    : cost: TensorFlow cost function\n",
    "    : accuracy: TensorFlow accuracy function\n",
    "    \"\"\"\n",
    "    # TODO: Implement Function\n",
    "    loss = session.run(cost, feed_dict={x:feature_batch, \n",
    "                                        y:label_batch,\n",
    "                                        keep_prob:1.0}) \n",
    "    acc = session.run(accuracy, \n",
    "                feed_dict={x:valid_features, \n",
    "                           y:valid_labels, \n",
    "                           keep_prob:1.0})\n",
    "    print('Loss={0} ValidationAccuracy={1}'.format(loss, acc))\n",
    "    # print(\"ValidationAccuracy={0}\".format(acc))\n",
    "    "
   ]
  },
  {
   "cell_type": "markdown",
   "metadata": {
    "deletable": true,
    "editable": true
   },
   "source": [
    "### Hyperparameters\n",
    "Tune the following parameters:\n",
    "* Set `epochs` to the number of iterations until the network stops learning or start overfitting\n",
    "* Set `batch_size` to the highest number that your machine has memory for.  Most people set them to common sizes of memory:\n",
    " * 64\n",
    " * 128\n",
    " * 256\n",
    " * ...\n",
    "* Set `keep_probability` to the probability of keeping a node using dropout"
   ]
  },
  {
   "cell_type": "code",
   "execution_count": 15,
   "metadata": {
    "collapsed": true,
    "deletable": true,
    "editable": true
   },
   "outputs": [],
   "source": [
    "# TODO: Tune Parameters\n",
    "epochs = 25\n",
    "batch_size = 1028\n",
    "keep_probability = 0.9"
   ]
  },
  {
   "cell_type": "markdown",
   "metadata": {
    "deletable": true,
    "editable": true
   },
   "source": [
    "### Train on a Single CIFAR-10 Batch\n",
    "Instead of training the neural network on all the CIFAR-10 batches of data, let's use a single batch. This should save time while you iterate on the model to get a better accuracy.  Once the final validation accuracy is 50% or greater, run the model on all the data in the next section."
   ]
  },
  {
   "cell_type": "code",
   "execution_count": 20,
   "metadata": {
    "collapsed": false,
    "deletable": true,
    "editable": true
   },
   "outputs": [
    {
     "name": "stdout",
     "output_type": "stream",
     "text": [
      "Checking the Training on a Single Batch...\n",
      "Epoch  1, CIFAR-10 Batch 1:  Loss=2.579895496368408 ValidationAccuracy=0.13439998030662537\n",
      "Epoch  2, CIFAR-10 Batch 1:  Loss=2.197059154510498 ValidationAccuracy=0.1751999855041504\n",
      "Epoch  3, CIFAR-10 Batch 1:  Loss=2.036641836166382 ValidationAccuracy=0.298799991607666\n",
      "Epoch  4, CIFAR-10 Batch 1:  Loss=1.8065028190612793 ValidationAccuracy=0.3725999593734741\n",
      "Epoch  5, CIFAR-10 Batch 1:  Loss=1.650500774383545 ValidationAccuracy=0.39879995584487915\n",
      "Epoch  6, CIFAR-10 Batch 1:  Loss=1.5335230827331543 ValidationAccuracy=0.4253999590873718\n",
      "Epoch  7, CIFAR-10 Batch 1:  Loss=1.4349340200424194 ValidationAccuracy=0.4461999535560608\n",
      "Epoch  8, CIFAR-10 Batch 1:  Loss=1.3420230150222778 ValidationAccuracy=0.46459996700286865\n",
      "Epoch  9, CIFAR-10 Batch 1:  Loss=1.2594085931777954 ValidationAccuracy=0.46779993176460266\n",
      "Epoch 10, CIFAR-10 Batch 1:  Loss=1.1900274753570557 ValidationAccuracy=0.4755999743938446\n",
      "Epoch 11, CIFAR-10 Batch 1:  Loss=1.1063389778137207 ValidationAccuracy=0.4803999662399292\n",
      "Epoch 12, CIFAR-10 Batch 1:  Loss=1.0376280546188354 ValidationAccuracy=0.48659995198249817\n",
      "Epoch 13, CIFAR-10 Batch 1:  Loss=0.9692800641059875 ValidationAccuracy=0.4901999831199646\n",
      "Epoch 14, CIFAR-10 Batch 1:  Loss=0.8991495370864868 ValidationAccuracy=0.49519991874694824\n",
      "Epoch 15, CIFAR-10 Batch 1:  Loss=0.8195122480392456 ValidationAccuracy=0.4981999695301056\n",
      "Epoch 16, CIFAR-10 Batch 1:  Loss=0.7604811191558838 ValidationAccuracy=0.49779996275901794\n",
      "Epoch 17, CIFAR-10 Batch 1:  Loss=0.6881635189056396 ValidationAccuracy=0.5049999356269836\n",
      "Epoch 18, CIFAR-10 Batch 1:  Loss=0.6205659508705139 ValidationAccuracy=0.5083999633789062\n",
      "Epoch 19, CIFAR-10 Batch 1:  Loss=0.5716163516044617 ValidationAccuracy=0.5103999376296997\n",
      "Epoch 20, CIFAR-10 Batch 1:  Loss=0.5318810343742371 ValidationAccuracy=0.4981999397277832\n",
      "Epoch 21, CIFAR-10 Batch 1:  Loss=0.46699270606040955 ValidationAccuracy=0.5097999572753906\n",
      "Epoch 22, CIFAR-10 Batch 1:  Loss=0.41878974437713623 ValidationAccuracy=0.5085999369621277\n",
      "Epoch 23, CIFAR-10 Batch 1:  Loss=0.39648324251174927 ValidationAccuracy=0.4989999532699585\n",
      "Epoch 24, CIFAR-10 Batch 1:  Loss=0.3399803340435028 ValidationAccuracy=0.5039999485015869\n",
      "Epoch 25, CIFAR-10 Batch 1:  Loss=0.3221350908279419 ValidationAccuracy=0.5052000284194946\n"
     ]
    }
   ],
   "source": [
    "\"\"\"\n",
    "DON'T MODIFY ANYTHING IN THIS CELL\n",
    "\"\"\"\n",
    "print('Checking the Training on a Single Batch...')\n",
    "with tf.Session() as sess:\n",
    "    # Initializing the variables\n",
    "    sess.run(tf.global_variables_initializer())\n",
    "    \n",
    "    # Training cycle\n",
    "    for epoch in range(epochs):\n",
    "        batch_i = 1\n",
    "        for batch_features, batch_labels in helper.load_preprocess_training_batch(batch_i, batch_size):\n",
    "            train_neural_network(sess, optimizer, keep_probability, batch_features, batch_labels)\n",
    "        print('Epoch {:>2}, CIFAR-10 Batch {}:  '.format(epoch + 1, batch_i), end='')\n",
    "        print_stats(sess, batch_features, batch_labels, cost, accuracy)"
   ]
  },
  {
   "cell_type": "markdown",
   "metadata": {
    "deletable": true,
    "editable": true
   },
   "source": [
    "### Fully Train the Model\n",
    "Now that you got a good accuracy with a single CIFAR-10 batch, try it with all five batches."
   ]
  },
  {
   "cell_type": "code",
   "execution_count": 22,
   "metadata": {
    "collapsed": false,
    "deletable": true,
    "editable": true
   },
   "outputs": [
    {
     "name": "stdout",
     "output_type": "stream",
     "text": [
      "Training...\n",
      "Epoch  1, CIFAR-10 Batch 1:  Loss=2.2405176162719727 ValidationAccuracy=0.16019999980926514\n",
      "Epoch  1, CIFAR-10 Batch 2:  Loss=2.1296026706695557 ValidationAccuracy=0.2802000045776367\n",
      "Epoch  1, CIFAR-10 Batch 3:  Loss=1.8730483055114746 ValidationAccuracy=0.357200026512146\n",
      "Epoch  1, CIFAR-10 Batch 4:  Loss=1.6801142692565918 ValidationAccuracy=0.3903999924659729\n",
      "Epoch  1, CIFAR-10 Batch 5:  Loss=1.620584487915039 ValidationAccuracy=0.42319998145103455\n",
      "Epoch  2, CIFAR-10 Batch 1:  Loss=1.5566736459732056 ValidationAccuracy=0.4472000002861023\n",
      "Epoch  2, CIFAR-10 Batch 2:  Loss=1.5295982360839844 ValidationAccuracy=0.45139995217323303\n",
      "Epoch  2, CIFAR-10 Batch 3:  Loss=1.4596307277679443 ValidationAccuracy=0.4635999798774719\n",
      "Epoch  2, CIFAR-10 Batch 4:  Loss=1.3857795000076294 ValidationAccuracy=0.48079994320869446\n",
      "Epoch  2, CIFAR-10 Batch 5:  Loss=1.3803207874298096 ValidationAccuracy=0.4955999553203583\n",
      "Epoch  3, CIFAR-10 Batch 1:  Loss=1.362987756729126 ValidationAccuracy=0.49379995465278625\n",
      "Epoch  3, CIFAR-10 Batch 2:  Loss=1.3838746547698975 ValidationAccuracy=0.4981999695301056\n",
      "Epoch  3, CIFAR-10 Batch 3:  Loss=1.3373980522155762 ValidationAccuracy=0.5023999214172363\n",
      "Epoch  3, CIFAR-10 Batch 4:  Loss=1.2683395147323608 ValidationAccuracy=0.5073999166488647\n",
      "Epoch  3, CIFAR-10 Batch 5:  Loss=1.2423542737960815 ValidationAccuracy=0.5263999700546265\n",
      "Epoch  4, CIFAR-10 Batch 1:  Loss=1.2345023155212402 ValidationAccuracy=0.5349999070167542\n",
      "Epoch  4, CIFAR-10 Batch 2:  Loss=1.2795406579971313 ValidationAccuracy=0.526199996471405\n",
      "Epoch  4, CIFAR-10 Batch 3:  Loss=1.2191517353057861 ValidationAccuracy=0.5323999524116516\n",
      "Epoch  4, CIFAR-10 Batch 4:  Loss=1.141811728477478 ValidationAccuracy=0.5363999605178833\n",
      "Epoch  4, CIFAR-10 Batch 5:  Loss=1.1472986936569214 ValidationAccuracy=0.5547999739646912\n",
      "Epoch  5, CIFAR-10 Batch 1:  Loss=1.1447062492370605 ValidationAccuracy=0.556999921798706\n",
      "Epoch  5, CIFAR-10 Batch 2:  Loss=1.1765382289886475 ValidationAccuracy=0.5579999089241028\n",
      "Epoch  5, CIFAR-10 Batch 3:  Loss=1.1181961297988892 ValidationAccuracy=0.5551999807357788\n",
      "Epoch  5, CIFAR-10 Batch 4:  Loss=1.0400198698043823 ValidationAccuracy=0.5589999556541443\n",
      "Epoch  5, CIFAR-10 Batch 5:  Loss=1.0540485382080078 ValidationAccuracy=0.5703998804092407\n",
      "Epoch  6, CIFAR-10 Batch 1:  Loss=1.0469213724136353 ValidationAccuracy=0.5755999684333801\n",
      "Epoch  6, CIFAR-10 Batch 2:  Loss=1.108341097831726 ValidationAccuracy=0.5657998919487\n",
      "Epoch  6, CIFAR-10 Batch 3:  Loss=1.0432006120681763 ValidationAccuracy=0.5759999752044678\n",
      "Epoch  6, CIFAR-10 Batch 4:  Loss=0.9687079191207886 ValidationAccuracy=0.5711999535560608\n",
      "Epoch  6, CIFAR-10 Batch 5:  Loss=0.9749955534934998 ValidationAccuracy=0.582599937915802\n",
      "Epoch  7, CIFAR-10 Batch 1:  Loss=0.9941164255142212 ValidationAccuracy=0.5871999263763428\n",
      "Epoch  7, CIFAR-10 Batch 2:  Loss=1.013838291168213 ValidationAccuracy=0.5913999080657959\n",
      "Epoch  7, CIFAR-10 Batch 3:  Loss=1.0097098350524902 ValidationAccuracy=0.5703999400138855\n",
      "Epoch  7, CIFAR-10 Batch 4:  Loss=0.92609703540802 ValidationAccuracy=0.5659999847412109\n",
      "Epoch  7, CIFAR-10 Batch 5:  Loss=0.9301207065582275 ValidationAccuracy=0.5805999040603638\n",
      "Epoch  8, CIFAR-10 Batch 1:  Loss=0.9201799631118774 ValidationAccuracy=0.5977999567985535\n",
      "Epoch  8, CIFAR-10 Batch 2:  Loss=0.9384253025054932 ValidationAccuracy=0.6019998788833618\n",
      "Epoch  8, CIFAR-10 Batch 3:  Loss=0.9263505935668945 ValidationAccuracy=0.5885999798774719\n",
      "Epoch  8, CIFAR-10 Batch 4:  Loss=0.8810420632362366 ValidationAccuracy=0.5713999271392822\n",
      "Epoch  8, CIFAR-10 Batch 5:  Loss=0.8722505569458008 ValidationAccuracy=0.5943999290466309\n",
      "Epoch  9, CIFAR-10 Batch 1:  Loss=0.8966971635818481 ValidationAccuracy=0.5943999290466309\n",
      "Epoch  9, CIFAR-10 Batch 2:  Loss=0.8936028480529785 ValidationAccuracy=0.6029998660087585\n",
      "Epoch  9, CIFAR-10 Batch 3:  Loss=0.8186994791030884 ValidationAccuracy=0.6055998802185059\n",
      "Epoch  9, CIFAR-10 Batch 4:  Loss=0.7714059948921204 ValidationAccuracy=0.5977998971939087\n",
      "Epoch  9, CIFAR-10 Batch 5:  Loss=0.8196554183959961 ValidationAccuracy=0.5943999290466309\n",
      "Epoch 10, CIFAR-10 Batch 1:  Loss=0.8339512348175049 ValidationAccuracy=0.6025999188423157\n",
      "Epoch 10, CIFAR-10 Batch 2:  Loss=0.8217929601669312 ValidationAccuracy=0.6099998950958252\n",
      "Epoch 10, CIFAR-10 Batch 3:  Loss=0.753956139087677 ValidationAccuracy=0.6115999221801758\n",
      "Epoch 10, CIFAR-10 Batch 4:  Loss=0.7080737352371216 ValidationAccuracy=0.600399911403656\n",
      "Epoch 10, CIFAR-10 Batch 5:  Loss=0.7479274868965149 ValidationAccuracy=0.5975999236106873\n",
      "Epoch 11, CIFAR-10 Batch 1:  Loss=0.7430131435394287 ValidationAccuracy=0.6129998564720154\n",
      "Epoch 11, CIFAR-10 Batch 2:  Loss=0.751675546169281 ValidationAccuracy=0.6137999296188354\n",
      "Epoch 11, CIFAR-10 Batch 3:  Loss=0.6979178786277771 ValidationAccuracy=0.6149999499320984\n",
      "Epoch 11, CIFAR-10 Batch 4:  Loss=0.6514236927032471 ValidationAccuracy=0.6075999140739441\n",
      "Epoch 11, CIFAR-10 Batch 5:  Loss=0.7030957341194153 ValidationAccuracy=0.5983999371528625\n",
      "Epoch 12, CIFAR-10 Batch 1:  Loss=0.6913721561431885 ValidationAccuracy=0.6119998693466187\n",
      "Epoch 12, CIFAR-10 Batch 2:  Loss=0.682644248008728 ValidationAccuracy=0.6227999329566956\n",
      "Epoch 12, CIFAR-10 Batch 3:  Loss=0.6427004337310791 ValidationAccuracy=0.6161999702453613\n",
      "Epoch 12, CIFAR-10 Batch 4:  Loss=0.590351402759552 ValidationAccuracy=0.6207999587059021\n",
      "Epoch 12, CIFAR-10 Batch 5:  Loss=0.6408538818359375 ValidationAccuracy=0.5991998910903931\n",
      "Epoch 13, CIFAR-10 Batch 1:  Loss=0.6811583042144775 ValidationAccuracy=0.603399932384491\n",
      "Epoch 13, CIFAR-10 Batch 2:  Loss=0.6648150682449341 ValidationAccuracy=0.6115999221801758\n",
      "Epoch 13, CIFAR-10 Batch 3:  Loss=0.5896550416946411 ValidationAccuracy=0.6179999113082886\n",
      "Epoch 13, CIFAR-10 Batch 4:  Loss=0.5770398378372192 ValidationAccuracy=0.6109999418258667\n",
      "Epoch 13, CIFAR-10 Batch 5:  Loss=0.6155778765678406 ValidationAccuracy=0.5999999046325684\n",
      "Epoch 14, CIFAR-10 Batch 1:  Loss=0.5887094140052795 ValidationAccuracy=0.6237999200820923\n",
      "Epoch 14, CIFAR-10 Batch 2:  Loss=0.6306630373001099 ValidationAccuracy=0.6017999053001404\n",
      "Epoch 14, CIFAR-10 Batch 3:  Loss=0.5752272605895996 ValidationAccuracy=0.6141999363899231\n",
      "Epoch 14, CIFAR-10 Batch 4:  Loss=0.5657374262809753 ValidationAccuracy=0.6027998924255371\n",
      "Epoch 14, CIFAR-10 Batch 5:  Loss=0.5644257664680481 ValidationAccuracy=0.6143999099731445\n",
      "Epoch 15, CIFAR-10 Batch 1:  Loss=0.5606325268745422 ValidationAccuracy=0.6239998936653137\n",
      "Epoch 15, CIFAR-10 Batch 2:  Loss=0.567115843296051 ValidationAccuracy=0.6247998476028442\n",
      "Epoch 15, CIFAR-10 Batch 3:  Loss=0.517805814743042 ValidationAccuracy=0.6309999227523804\n",
      "Epoch 15, CIFAR-10 Batch 4:  Loss=0.4842079281806946 ValidationAccuracy=0.6163999438285828\n",
      "Epoch 15, CIFAR-10 Batch 5:  Loss=0.5165168642997742 ValidationAccuracy=0.6133999228477478\n",
      "Epoch 16, CIFAR-10 Batch 1:  Loss=0.46045204997062683 ValidationAccuracy=0.6383998990058899\n",
      "Epoch 16, CIFAR-10 Batch 2:  Loss=0.5127530097961426 ValidationAccuracy=0.6269999742507935\n",
      "Epoch 16, CIFAR-10 Batch 3:  Loss=0.4462560713291168 ValidationAccuracy=0.6327998638153076\n",
      "Epoch 16, CIFAR-10 Batch 4:  Loss=0.4366265535354614 ValidationAccuracy=0.6201999187469482\n",
      "Epoch 16, CIFAR-10 Batch 5:  Loss=0.4399811625480652 ValidationAccuracy=0.6273999214172363\n",
      "Epoch 17, CIFAR-10 Batch 1:  Loss=0.41129305958747864 ValidationAccuracy=0.6355999708175659\n",
      "Epoch 17, CIFAR-10 Batch 2:  Loss=0.49261853098869324 ValidationAccuracy=0.6219999194145203\n",
      "Epoch 17, CIFAR-10 Batch 3:  Loss=0.4028526544570923 ValidationAccuracy=0.6365998983383179\n",
      "Epoch 17, CIFAR-10 Batch 4:  Loss=0.3779206871986389 ValidationAccuracy=0.6223998665809631\n",
      "Epoch 17, CIFAR-10 Batch 5:  Loss=0.39755043387413025 ValidationAccuracy=0.6221998929977417\n",
      "Epoch 18, CIFAR-10 Batch 1:  Loss=0.3813135325908661 ValidationAccuracy=0.6227999329566956\n",
      "Epoch 18, CIFAR-10 Batch 2:  Loss=0.4396611154079437 ValidationAccuracy=0.6153998970985413\n",
      "Epoch 18, CIFAR-10 Batch 3:  Loss=0.3748778700828552 ValidationAccuracy=0.6191998720169067\n",
      "Epoch 18, CIFAR-10 Batch 4:  Loss=0.3482969403266907 ValidationAccuracy=0.6253998875617981\n",
      "Epoch 18, CIFAR-10 Batch 5:  Loss=0.36289748549461365 ValidationAccuracy=0.6221998929977417\n",
      "Epoch 19, CIFAR-10 Batch 1:  Loss=0.3369198441505432 ValidationAccuracy=0.6287999153137207\n",
      "Epoch 19, CIFAR-10 Batch 2:  Loss=0.3825121223926544 ValidationAccuracy=0.6149999499320984\n",
      "Epoch 19, CIFAR-10 Batch 3:  Loss=0.345943421125412 ValidationAccuracy=0.6169999837875366\n",
      "Epoch 19, CIFAR-10 Batch 4:  Loss=0.32747700810432434 ValidationAccuracy=0.6143998503684998\n",
      "Epoch 19, CIFAR-10 Batch 5:  Loss=0.335122674703598 ValidationAccuracy=0.6257998943328857\n",
      "Epoch 20, CIFAR-10 Batch 1:  Loss=0.3235536217689514 ValidationAccuracy=0.622999906539917\n",
      "Epoch 20, CIFAR-10 Batch 2:  Loss=0.33171093463897705 ValidationAccuracy=0.6271998882293701\n",
      "Epoch 20, CIFAR-10 Batch 3:  Loss=0.3340910077095032 ValidationAccuracy=0.6079999208450317\n",
      "Epoch 20, CIFAR-10 Batch 4:  Loss=0.362283855676651 ValidationAccuracy=0.5911999344825745\n",
      "Epoch 20, CIFAR-10 Batch 5:  Loss=0.3411869406700134 ValidationAccuracy=0.6075998544692993\n",
      "Epoch 21, CIFAR-10 Batch 1:  Loss=0.31866690516471863 ValidationAccuracy=0.6221999526023865\n",
      "Epoch 21, CIFAR-10 Batch 2:  Loss=0.3120734989643097 ValidationAccuracy=0.6213999390602112\n",
      "Epoch 21, CIFAR-10 Batch 3:  Loss=0.2888723611831665 ValidationAccuracy=0.624799907207489\n",
      "Epoch 21, CIFAR-10 Batch 4:  Loss=0.35493719577789307 ValidationAccuracy=0.5947999358177185\n",
      "Epoch 21, CIFAR-10 Batch 5:  Loss=0.29482442140579224 ValidationAccuracy=0.6283998489379883\n",
      "Epoch 22, CIFAR-10 Batch 1:  Loss=0.2754967510700226 ValidationAccuracy=0.6233998537063599\n",
      "Epoch 22, CIFAR-10 Batch 2:  Loss=0.3198556900024414 ValidationAccuracy=0.6153998970985413\n",
      "Epoch 22, CIFAR-10 Batch 3:  Loss=0.2592976689338684 ValidationAccuracy=0.6251999139785767\n",
      "Epoch 22, CIFAR-10 Batch 4:  Loss=0.2866770327091217 ValidationAccuracy=0.6001999378204346\n",
      "Epoch 22, CIFAR-10 Batch 5:  Loss=0.2612548768520355 ValidationAccuracy=0.6195999383926392\n",
      "Epoch 23, CIFAR-10 Batch 1:  Loss=0.2617674469947815 ValidationAccuracy=0.6215999126434326\n",
      "Epoch 23, CIFAR-10 Batch 2:  Loss=0.2837207317352295 ValidationAccuracy=0.6177998185157776\n",
      "Epoch 23, CIFAR-10 Batch 3:  Loss=0.24115344882011414 ValidationAccuracy=0.6317999362945557\n",
      "Epoch 23, CIFAR-10 Batch 4:  Loss=0.25071507692337036 ValidationAccuracy=0.6023998856544495\n",
      "Epoch 23, CIFAR-10 Batch 5:  Loss=0.2592109441757202 ValidationAccuracy=0.6099998950958252\n",
      "Epoch 24, CIFAR-10 Batch 1:  Loss=0.2306809425354004 ValidationAccuracy=0.621199905872345\n",
      "Epoch 24, CIFAR-10 Batch 2:  Loss=0.2572176456451416 ValidationAccuracy=0.6189998984336853\n",
      "Epoch 24, CIFAR-10 Batch 3:  Loss=0.21691209077835083 ValidationAccuracy=0.6257998943328857\n",
      "Epoch 24, CIFAR-10 Batch 4:  Loss=0.20798751711845398 ValidationAccuracy=0.6229999661445618\n",
      "Epoch 24, CIFAR-10 Batch 5:  Loss=0.2397756278514862 ValidationAccuracy=0.6001998782157898\n",
      "Epoch 25, CIFAR-10 Batch 1:  Loss=0.23516887426376343 ValidationAccuracy=0.6219999194145203\n",
      "Epoch 25, CIFAR-10 Batch 2:  Loss=0.23139679431915283 ValidationAccuracy=0.621799886226654\n",
      "Epoch 25, CIFAR-10 Batch 3:  Loss=0.21367111802101135 ValidationAccuracy=0.6241998672485352\n",
      "Epoch 25, CIFAR-10 Batch 4:  Loss=0.2009693682193756 ValidationAccuracy=0.6191999316215515\n",
      "Epoch 25, CIFAR-10 Batch 5:  Loss=0.2062828689813614 ValidationAccuracy=0.6215999126434326\n"
     ]
    }
   ],
   "source": [
    "\"\"\"\n",
    "DON'T MODIFY ANYTHING IN THIS CELL\n",
    "\"\"\"\n",
    "save_model_path = './image_classification'\n",
    "\n",
    "print('Training...')\n",
    "with tf.Session() as sess:\n",
    "    # Initializing the variables\n",
    "    sess.run(tf.global_variables_initializer())\n",
    "    \n",
    "    # Training cycle\n",
    "    for epoch in range(epochs):\n",
    "        # Loop over all batches\n",
    "        n_batches = 5\n",
    "        for batch_i in range(1, n_batches + 1):\n",
    "            for batch_features, batch_labels in helper.load_preprocess_training_batch(batch_i, batch_size):\n",
    "                train_neural_network(sess, optimizer, keep_probability, batch_features, batch_labels)\n",
    "            print('Epoch {:>2}, CIFAR-10 Batch {}:  '.format(epoch + 1, batch_i), end='')\n",
    "            print_stats(sess, batch_features, batch_labels, cost, accuracy)\n",
    "            \n",
    "    # Save Model\n",
    "    saver = tf.train.Saver()\n",
    "    save_path = saver.save(sess, save_model_path)"
   ]
  },
  {
   "cell_type": "markdown",
   "metadata": {
    "deletable": true,
    "editable": true
   },
   "source": [
    "# Checkpoint\n",
    "The model has been saved to disk.\n",
    "## Test Model\n",
    "Test your model against the test dataset.  This will be your final accuracy. You should have an accuracy greater than 50%. If you don't, keep tweaking the model architecture and parameters."
   ]
  },
  {
   "cell_type": "code",
   "execution_count": 23,
   "metadata": {
    "collapsed": false,
    "deletable": true,
    "editable": true
   },
   "outputs": [
    {
     "name": "stdout",
     "output_type": "stream",
     "text": [
      "Testing Accuracy: 0.6169572591781616\n",
      "\n"
     ]
    },
    {
     "data": {
      "image/png": "[encoded data removed]",
      "text/plain": [
       "<matplotlib.figure.Figure at 0x7f32d05efa90>"
      ]
     },
     "metadata": {
      "image/png": {
       "height": 319,
       "width": 355
      }
     },
     "output_type": "display_data"
    }
   ],
   "source": [
    "\"\"\"\n",
    "DON'T MODIFY ANYTHING IN THIS CELL\n",
    "\"\"\"\n",
    "%matplotlib inline\n",
    "%config InlineBackend.figure_format = 'retina'\n",
    "\n",
    "import tensorflow as tf\n",
    "import pickle\n",
    "import helper\n",
    "import random\n",
    "\n",
    "# Set batch size if not already set\n",
    "try:\n",
    "    if batch_size:\n",
    "        pass\n",
    "except NameError:\n",
    "    batch_size = 64\n",
    "\n",
    "save_model_path = './image_classification'\n",
    "n_samples = 4\n",
    "top_n_predictions = 3\n",
    "\n",
    "def test_model():\n",
    "    \"\"\"\n",
    "    Test the saved model against the test dataset\n",
    "    \"\"\"\n",
    "\n",
    "    test_features, test_labels = pickle.load(open('preprocess_training.p', mode='rb'))\n",
    "    loaded_graph = tf.Graph()\n",
    "\n",
    "    with tf.Session(graph=loaded_graph) as sess:\n",
    "        # Load model\n",
    "        loader = tf.train.import_meta_graph(save_model_path + '.meta')\n",
    "        loader.restore(sess, save_model_path)\n",
    "\n",
    "        # Get Tensors from loaded model\n",
    "        loaded_x = loaded_graph.get_tensor_by_name('x:0')\n",
    "        loaded_y = loaded_graph.get_tensor_by_name('y:0')\n",
    "        loaded_keep_prob = loaded_graph.get_tensor_by_name('keep_prob:0')\n",
    "        loaded_logits = loaded_graph.get_tensor_by_name('logits:0')\n",
    "        loaded_acc = loaded_graph.get_tensor_by_name('accuracy:0')\n",
    "        \n",
    "        # Get accuracy in batches for memory limitations\n",
    "        test_batch_acc_total = 0\n",
    "        test_batch_count = 0\n",
    "        \n",
    "        for train_feature_batch, train_label_batch in helper.batch_features_labels(test_features, test_labels, batch_size):\n",
    "            test_batch_acc_total += sess.run(\n",
    "                loaded_acc,\n",
    "                feed_dict={loaded_x: train_feature_batch, loaded_y: train_label_batch, loaded_keep_prob: 1.0})\n",
    "            test_batch_count += 1\n",
    "\n",
    "        print('Testing Accuracy: {}\\n'.format(test_batch_acc_total/test_batch_count))\n",
    "\n",
    "        # Print Random Samples\n",
    "        random_test_features, random_test_labels = tuple(zip(*random.sample(list(zip(test_features, test_labels)), n_samples)))\n",
    "        random_test_predictions = sess.run(\n",
    "            tf.nn.top_k(tf.nn.softmax(loaded_logits), top_n_predictions),\n",
    "            feed_dict={loaded_x: random_test_features, loaded_y: random_test_labels, loaded_keep_prob: 1.0})\n",
    "        helper.display_image_predictions(random_test_features, random_test_labels, random_test_predictions)\n",
    "\n",
    "\n",
    "test_model()"
   ]
  },
  {
   "cell_type": "markdown",
   "metadata": {
    "deletable": true,
    "editable": true
   },
   "source": [
    "## Why 50-70% Accuracy?\n",
    "You might be wondering why you can't get an accuracy any higher. First things first, 50% isn't bad for a simple CNN.  Pure guessing would get you 10% accuracy. However, you might notice people are getting scores [well above 70%](http://rodrigob.github.io/are_we_there_yet/build/classification_datasets_results.html#43494641522d3130).  That's because we haven't taught you all there is to know about neural networks. We still need to cover a few more techniques.\n",
    "## Submitting This Project\n",
    "When submitting this project, make sure to run all the cells before saving the notebook.  Save the notebook file as \"dlnd_image_classification.ipynb\" and save it as a HTML file under \"File\" -> \"Download as\".  Include the \"helper.py\" and \"problem_unittests.py\" files in your submission."
   ]
  }
 ],
 "metadata": {
  "kernelspec": {
   "display_name": "Python 3",
   "language": "python",
   "name": "python3"
  },
  "language_info": {
   "codemirror_mode": {
    "name": "ipython",
    "version": 3
   },
   "file_extension": ".py",
   "mimetype": "text/x-python",
   "name": "python",
   "nbconvert_exporter": "python",
   "pygments_lexer": "ipython3",
   "version": "3.5.2"
  },
  "widgets": {
   "state": {},
   "version": "1.1.2"
  }
 },
 "nbformat": 4,
 "nbformat_minor": 0
}
